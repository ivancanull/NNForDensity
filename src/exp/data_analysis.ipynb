{
 "cells": [
  {
   "cell_type": "code",
   "execution_count": 1,
   "metadata": {},
   "outputs": [],
   "source": [
    "import os\n",
    "import numpy as np\n",
    "import matplotlib.pyplot as plt"
   ]
  },
  {
   "cell_type": "code",
   "execution_count": 2,
   "metadata": {},
   "outputs": [],
   "source": [
    "def read_indices(\n",
    "    file_path, \n",
    "    image_dir, \n",
    "    label_dir,\n",
    "    mode, separator=' ', ):\n",
    "    file_list = []\n",
    "    with open(file_path, 'r') as f:\n",
    "        for line in f:\n",
    "            items = line.strip().split(separator)\n",
    "            if len(items) != 2:\n",
    "                if mode == 'train' or mode == 'val':\n",
    "                    raise ValueError(\n",
    "                        \"File list format incorrect! In training or evaluation task it should be\"\n",
    "                        \" image_name{}label_name\\\\n\".format(separator))\n",
    "                # \n",
    "                image_path = os.path.join(image_dir, items[0])\n",
    "                label_path = None\n",
    "            else:\n",
    "                image_path = os.path.join(image_dir, items[0])\n",
    "                label_path = os.path.join(label_dir, items[1])\n",
    "            file_list.append([image_path, label_path])\n",
    "    return file_list"
   ]
  },
  {
   "cell_type": "code",
   "execution_count": 17,
   "metadata": {},
   "outputs": [],
   "source": [
    "def load_npy_and_save(\n",
    "    file_list, \n",
    "    input_npy_dir, \n",
    "    output_npy_dir, \n",
    "    saved_dir,\n",
    "    saved_name\n",
    "):\n",
    "    image_npy_concat_path = os.path.join(saved_dir, f\"{saved_name}_image_concat.npy\")\n",
    "    label_npy_concat_path = os.path.join(saved_dir, f\"{saved_name}_label_concat.npy\")\n",
    "    if os.path.exists(image_npy_concat_path) and os.path.exists(label_npy_concat_path):\n",
    "        input_npy_concat = np.load(image_npy_concat_path)\n",
    "        output_npy_concat = np.load(label_npy_concat_path)\n",
    "    else:\n",
    "        input_npy_concat = np.stack([np.load(file_path[0]) for file_path in file_list])\n",
    "        output_npy_concat = np.stack([np.load(file_path[1]) for file_path in file_list])\n",
    "        np.save(image_npy_concat_path, input_npy_concat)\n",
    "        np.save(label_npy_concat_path, output_npy_concat)\n",
    "    return input_npy_concat, output_npy_concat\n"
   ]
  },
  {
   "cell_type": "code",
   "execution_count": 4,
   "metadata": {},
   "outputs": [],
   "source": [
    "dataset_dir = \"../../data/toy_example/\"\n",
    "dataset_name = \"toy_example\"\n",
    "input_npy_dir = os.path.join(dataset_dir, \"inputnpy\")\n",
    "output_npy_dir = os.path.join(dataset_dir, \"outputnpy\")\n",
    "train_indices_dir = os.path.join(dataset_dir, \"train_indices.txt\")\n",
    "train_file_list = read_indices(file_path=train_indices_dir, \n",
    "                               image_dir=input_npy_dir,\n",
    "                               label_dir=output_npy_dir,\n",
    "                               mode=\"train\")"
   ]
  },
  {
   "cell_type": "code",
   "execution_count": 18,
   "metadata": {},
   "outputs": [
    {
     "name": "stdout",
     "output_type": "stream",
     "text": [
      "(397, 512, 512)\n",
      "(397, 256, 256)\n"
     ]
    }
   ],
   "source": [
    "train_input_npy_concat, train_output_npy_concat = load_npy_and_save(file_list=train_file_list, \n",
    "                                                                    input_npy_dir=input_npy_dir, \n",
    "                                                                    output_npy_dir=output_npy_dir,\n",
    "                                                                    saved_dir=dataset_dir,\n",
    "                                                                    saved_name=\"train\")\n",
    "print(train_input_npy_concat.shape)\n",
    "print(train_output_npy_concat.shape)"
   ]
  },
  {
   "cell_type": "code",
   "execution_count": 27,
   "metadata": {},
   "outputs": [
    {
     "data": {
      "image/png": "[encoded data removed]",
      "text/plain": [
       "<Figure size 432x288 with 2 Axes>"
      ]
     },
     "metadata": {
      "needs_background": "light"
     },
     "output_type": "display_data"
    }
   ],
   "source": [
    "# plot histogram of train_input_numpy\n",
    "fig, ax = plt.subplots(1, 2, tight_layout=True)\n",
    "nbins = 20\n",
    "train_input_npy_concat_log =np.log10(np.maximum(np.ones_like(train_input_npy_concat) * 0.1, train_input_npy_concat)) \n",
    "\n",
    "ax[0].hist(train_input_npy_concat_log.reshape(-1), nbins)\n",
    "ax[1].hist(train_output_npy_concat.reshape(-1), nbins)\n",
    "\n",
    "# TODO: refine label names\n",
    "ax[0].set_xlabel(\"Input (log10) \")\n",
    "ax[0].set_ylabel(\"Count\")\n",
    "ax[0].set_title(\"Set log10(0) to be -1\", loc='right')\n",
    "ax[1].set_xlabel(\"Output\")\n",
    "ax[1].set_ylabel(\"Count\")\n",
    "\n",
    "fig.suptitle(\"Histogram of input and output\")\n",
    "plt.savefig(\"../../figures/pdf/toy_example/histogram_of_input_output.pdf\")\n",
    "plt.savefig(\"../../figures/png/toy_example/histogram_of_input_output.png\")\n",
    "\n",
    "fig.show()"
   ]
  }
 ],
 "metadata": {
  "kernelspec": {
   "display_name": "torch",
   "language": "python",
   "name": "python3"
  },
  "language_info": {
   "codemirror_mode": {
    "name": "ipython",
    "version": 3
   },
   "file_extension": ".py",
   "mimetype": "text/x-python",
   "name": "python",
   "nbconvert_exporter": "python",
   "pygments_lexer": "ipython3",
   "version": "3.8.10"
  }
 },
 "nbformat": 4,
 "nbformat_minor": 2
}
